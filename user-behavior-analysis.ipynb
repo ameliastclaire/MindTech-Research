# User Behavior Analysis Notebook
# Amelia St. Claire | MindTech-Research

# Import necessary libraries
import pandas as pd
import matplotlib.pyplot as plt
import seaborn as sns

# Load user behavior dataset
user_behavior_data = pd.read_csv('data/user_behavior_data.csv')

# Explore the dataset
print("Dataset Overview:")
print(user_behavior_data.head())

# Basic statistics
print("\nBasic Statistics:")
print(user_behavior_data.describe())

# Data visualization
plt.figure(figsize=(10, 6))
sns.histplot(data=user_behavior_data, x='time_spent', bins=20, kde=True)
plt.title("Distribution of Time Spent by Users")
plt.xlabel("Time Spent (minutes)")
plt.ylabel("Frequency")
plt.show()

# Analyze user behavior patterns
avg_time_spent = user_behavior_data['time_spent'].mean()
max_time_spent = user_behavior_data['time_spent'].max()

print("\nAverage Time Spent:", avg_time_spent, "minutes")
print("Maximum Time Spent:", max_time_spent, "minutes")

# Further analysis and insights can be added here
